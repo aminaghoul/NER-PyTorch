{
 "cells": [
  {
   "cell_type": "markdown",
   "metadata": {
    "colab_type": "text",
    "id": "RP7Y8OUGJOiQ"
   },
   "source": [
    "# Using F1 instead of accuracy and preparation for the experiment\n",
    "\n",
    "Ok, so we have two approaches for the NER model: BiLSTM and Transformer, which one performs better? From the beginning until [Part 6](https://colab.research.google.com/drive/1vbq2K9v4JYE6jU5A4X1BRjPD_lPZVqTH?usp=sharing), we have been using accuracy as the main performance metric. However, NER dataset is often imbalanced: most of the words are not named-entities (label is \"O\"). Accuracy is not the best metric for this purpose because the model can get a high score just by producing all \"O\" predictions, which is not useful.\n",
    "\n",
    "A better metric for named entity recognition is [F1](https://en.wikipedia.org/wiki/F1_score). In particular, we calculate the F1 score by exlcluding the prediction for non named-entities. By using F1, we can see how well the model detect the named-entity words instead of relying on predicting \"O\" correctly."
   ]
  },
  {
   "cell_type": "code",
   "execution_count": null,
   "metadata": {
    "colab": {
     "base_uri": "https://localhost:8080/",
     "height": 256
    },
    "colab_type": "code",
    "id": "iAnCZYSCcq7O",
    "outputId": "747c5ebe-67bd-4aa4-bf12-5153a4b34fff"
   },
   "outputs": [
    {
     "name": "stdout",
     "output_type": "stream",
     "text": [
      "Requirement already satisfied: torchtext==0.6.0 in /usr/local/lib/python3.6/dist-packages (0.6.0)\n",
      "Requirement already satisfied: six in /usr/local/lib/python3.6/dist-packages (from torchtext==0.6.0) (1.15.0)\n",
      "Requirement already satisfied: torch in /usr/local/lib/python3.6/dist-packages (from torchtext==0.6.0) (1.6.0+cu101)\n",
      "Requirement already satisfied: tqdm in /usr/local/lib/python3.6/dist-packages (from torchtext==0.6.0) (4.41.1)\n",
      "Requirement already satisfied: numpy in /usr/local/lib/python3.6/dist-packages (from torchtext==0.6.0) (1.18.5)\n",
      "Requirement already satisfied: sentencepiece in /usr/local/lib/python3.6/dist-packages (from torchtext==0.6.0) (0.1.91)\n",
      "Requirement already satisfied: requests in /usr/local/lib/python3.6/dist-packages (from torchtext==0.6.0) (2.23.0)\n",
      "Requirement already satisfied: future in /usr/local/lib/python3.6/dist-packages (from torch->torchtext==0.6.0) (0.16.0)\n",
      "Requirement already satisfied: chardet<4,>=3.0.2 in /usr/local/lib/python3.6/dist-packages (from requests->torchtext==0.6.0) (3.0.4)\n",
      "Requirement already satisfied: urllib3!=1.25.0,!=1.25.1,<1.26,>=1.21.1 in /usr/local/lib/python3.6/dist-packages (from requests->torchtext==0.6.0) (1.24.3)\n",
      "Requirement already satisfied: idna<3,>=2.5 in /usr/local/lib/python3.6/dist-packages (from requests->torchtext==0.6.0) (2.10)\n",
      "Requirement already satisfied: certifi>=2017.4.17 in /usr/local/lib/python3.6/dist-packages (from requests->torchtext==0.6.0) (2020.6.20)\n",
      "Requirement already satisfied: pytorch-crf in /usr/local/lib/python3.6/dist-packages (0.7.2)\n"
     ]
    }
   ],
   "source": [
    "!pip install torchtext==0.6.0\n",
    "!pip install pytorch-crf\n",
    "\n",
    "import math\n",
    "import time\n",
    "import gensim\n",
    "import torch\n",
    "import torchcrf\n",
    "import matplotlib.pyplot as plt\n",
    "from torch import nn\n",
    "from torch.optim import Adam\n",
    "from torchtext.data import Field, NestedField, BucketIterator\n",
    "from torchtext.datasets import SequenceTaggingDataset\n",
    "from torchtext.vocab import Vocab\n",
    "from collections import Counter\n",
    "from spacy.lang.id import Indonesian\n",
    "from sklearn.metrics import f1_score, classification_report\n",
    "\n",
    "DRIVE_ROOT = \"/content/gdrive/My Drive/Colab Notebooks/Nerindo\""
   ]
  },
  {
   "cell_type": "code",
   "execution_count": null,
   "metadata": {
    "colab": {
     "base_uri": "https://localhost:8080/",
     "height": 35
    },
    "colab_type": "code",
    "id": "dELLs2rvgCk2",
    "outputId": "7c4e3ed6-fb78-44fc-cfaa-b6067a4c1bcf"
   },
   "outputs": [
    {
     "name": "stdout",
     "output_type": "stream",
     "text": [
      "GPU is available: Tesla K80\n"
     ]
    }
   ],
   "source": [
    "available_gpu = torch.cuda.is_available()\n",
    "if available_gpu:\n",
    "    print(f\"GPU is available: {torch.cuda.get_device_name(0)}\")\n",
    "    use_device = torch.device(\"cuda\")\n",
    "else:\n",
    "    use_device = torch.device(\"cpu\")"
   ]
  },
  {
   "cell_type": "markdown",
   "metadata": {
    "colab_type": "text",
    "id": "U-12FXGadKOQ"
   },
   "source": [
    "# Corpus\n",
    "\n",
    "Nothing changes for corpus."
   ]
  },
  {
   "cell_type": "code",
   "execution_count": null,
   "metadata": {
    "colab": {},
    "colab_type": "code",
    "id": "WN4QxPZlc3Rx"
   },
   "outputs": [],
   "source": [
    "class Corpus(object):\n",
    "\n",
    "    def __init__(self, input_folder, min_word_freq, batch_size, wv_file=None):\n",
    "        # list all the fields\n",
    "        self.word_field = Field(lower=True)  # [sent len, batch_size]\n",
    "        self.tag_field = Field(unk_token=None)  # [sent len, batch_size]\n",
    "        # Character-level input\n",
    "        self.char_nesting_field = Field(tokenize=list)\n",
    "        self.char_field = NestedField(self.char_nesting_field)  # [batch_size, sent len, max len char]\n",
    "        # create dataset using built-in parser from torchtext\n",
    "        self.train_dataset, self.val_dataset, self.test_dataset = SequenceTaggingDataset.splits(\n",
    "            path=input_folder,\n",
    "            train=\"train.tsv\",\n",
    "            validation=\"val.tsv\",\n",
    "            test=\"test.tsv\",\n",
    "            fields=(\n",
    "                ((\"word\", \"char\"), (self.word_field, self.char_field)),\n",
    "                (\"tag\", self.tag_field)\n",
    "            )\n",
    "        )\n",
    "        # convert fields to vocabulary list\n",
    "        if wv_file:\n",
    "            self.wv_model = gensim.models.word2vec.Word2Vec.load(wv_file)\n",
    "            self.embedding_dim = self.wv_model.vector_size\n",
    "            word_freq = {word: self.wv_model.wv.vocab[word].count for word in self.wv_model.wv.vocab}\n",
    "            word_counter = Counter(word_freq)\n",
    "            self.word_field.vocab = Vocab(word_counter, min_freq=min_word_freq)\n",
    "            vectors = []\n",
    "            for word, idx in self.word_field.vocab.stoi.items():\n",
    "                if word in self.wv_model.wv.vocab.keys():\n",
    "                    vectors.append(torch.as_tensor(self.wv_model.wv[word].tolist()))\n",
    "                else:\n",
    "                    vectors.append(torch.zeros(self.embedding_dim))\n",
    "            self.word_field.vocab.set_vectors(\n",
    "                stoi=self.word_field.vocab.stoi,\n",
    "                vectors=vectors,\n",
    "                dim=self.embedding_dim\n",
    "            )\n",
    "        else:\n",
    "            self.word_field.build_vocab(self.train_dataset.word, min_freq=min_word_freq)\n",
    "        # build vocab for tag and characters\n",
    "        self.char_field.build_vocab(self.train_dataset.char)\n",
    "        self.tag_field.build_vocab(self.train_dataset.tag)\n",
    "        # create iterator for batch input\n",
    "        self.train_iter, self.val_iter, self.test_iter = BucketIterator.splits(\n",
    "            datasets=(self.train_dataset, self.val_dataset, self.test_dataset),\n",
    "            batch_size=batch_size\n",
    "        )\n",
    "        # prepare padding index to be ignored during model training/evaluation\n",
    "        self.word_pad_idx = self.word_field.vocab.stoi[self.word_field.pad_token]\n",
    "        self.char_pad_idx = self.char_field.vocab.stoi[self.char_field.pad_token]\n",
    "        self.tag_pad_idx = self.tag_field.vocab.stoi[self.tag_field.pad_token]"
   ]
  },
  {
   "cell_type": "code",
   "execution_count": null,
   "metadata": {
    "colab": {
     "base_uri": "https://localhost:8080/",
     "height": 129
    },
    "colab_type": "code",
    "id": "OmAO0lVudUU8",
    "outputId": "0e8c572a-8185-46a3-95f8-c311ae6a302c"
   },
   "outputs": [
    {
     "name": "stderr",
     "output_type": "stream",
     "text": [
      "/usr/local/lib/python3.6/dist-packages/smart_open/smart_open_lib.py:254: UserWarning: This function is deprecated, use smart_open.open instead. See the migration notes for details: https://github.com/RaRe-Technologies/smart_open/blob/master/README.rst#migrating-to-the-new-open-function\n",
      "  'See the migration notes for details: %s' % _MIGRATION_NOTES_URL\n"
     ]
    },
    {
     "name": "stdout",
     "output_type": "stream",
     "text": [
      "Train set: 3535 sentences\n",
      "Val set: 470 sentences\n",
      "Test set: 468 sentences\n"
     ]
    }
   ],
   "source": [
    "corpus = Corpus(\n",
    "    input_folder=f\"{DRIVE_ROOT}/input\",\n",
    "    min_word_freq=3,\n",
    "    batch_size=64,\n",
    "    wv_file=f\"{DRIVE_ROOT}/pretrain/embeddings/id_ft.bin\"\n",
    ")\n",
    "print(f\"Train set: {len(corpus.train_dataset)} sentences\")\n",
    "print(f\"Val set: {len(corpus.val_dataset)} sentences\")\n",
    "print(f\"Test set: {len(corpus.test_dataset)} sentences\")"
   ]
  },
  {
   "cell_type": "markdown",
   "metadata": {
    "colab_type": "text",
    "id": "himV6c2Adbp6"
   },
   "source": [
    "# Trainer\n",
    "\n",
    "I implement the F1 score as a replacement for accuracy function in the Trainer function below. As you can see from the code, I exclude \"O\" from the calculation and apply `sklearn`'s F1 score function. In this implementation, `average=\"micro\"` reflects the weighted average of F1, as there is different number of words per label in the dataset.\n",
    "\n",
    "Another update for the Trainer class is the training sequence. Since we are aiming to train multiple models, printing every epochs result is unnecessary. Instead, we can store all the training information and return them. Afterwards, we can compare the training results between the models."
   ]
  },
  {
   "cell_type": "code",
   "execution_count": null,
   "metadata": {
    "colab": {},
    "colab_type": "code",
    "id": "ab-iyc6-deG7"
   },
   "outputs": [],
   "source": [
    "def f1_loss(preds, y):\n",
    "    '''\n",
    "    Retourne le score F1\n",
    "    '''  \n",
    "    y_pred = torch.round(torch.sigmoid(preds))\n",
    "    y_true = (y_pred == y).float() \n",
    "            \n",
    "    tp = (y_true * y_pred).sum().float()\n",
    "    tn = ((1 - y_true) * (1 - y_pred)).sum().float()\n",
    "    fp = ((1 - y_true) * y_pred).sum().float()\n",
    "    fn = (y_true * (1 - y_pred)).sum().float()\n",
    "    \n",
    "    recall = tp / (tp + fn)\n",
    "    precision = tp / (tp + fp)\n",
    "    \n",
    "    if (tp + fn) == 0 or (tp + fp) == 0 or (recall + precision == 0):\n",
    "        f1 = torch.zeros(1)\n",
    "    else:\n",
    "        f1 = 2* (precision*recall) / (precision + recall)\n",
    "    \n",
    "    return f1\n",
    "\n",
    "### BEGIN NEW SECTION: F1 SCORE ##\n",
    "    def f1_positive(self, preds, y):\n",
    "        index_o = self.data.tag_field.vocab.stoi[\"O\"]\n",
    "        # take all labels except padding and \"O\"\n",
    "        positive_labels = [i for i in range(len(self.data.tag_field.vocab.itos))\n",
    "                           if i not in (self.data.tag_pad_idx, index_o)]\n",
    "        # make the prediction one dimensional to follow sklearn f1 score input param\n",
    "        flatten_preds = [pred for sent_pred in preds for pred in sent_pred]\n",
    "        # remove prediction for padding and \"O\"\n",
    "        positive_preds = [pred for pred in flatten_preds\n",
    "                          if pred not in (self.data.tag_pad_idx, index_o)]\n",
    "        # make the true tags one dimensional to follow sklearn f1 score input param\n",
    "        flatten_y = [tag for sent_tag in y for tag in sent_tag]\n",
    "        # average \"micro\" means we take weighted average of the class f1 score\n",
    "        # weighted based on the number of support\n",
    "        return f1_score(\n",
    "            y_true=flatten_y,\n",
    "            y_pred=flatten_preds,\n",
    "            labels=positive_labels,\n",
    "            average=\"micro\"\n",
    "        ) if len(positive_preds) > 0 else 0\n",
    "    ### END NEW SECTION ###\n",
    "\n",
    "    def epoch(self):\n",
    "        epoch_loss = 0\n",
    "        true_tags_epoch = []\n",
    "        pred_tags_epoch = []\n",
    "        self.model.train()\n",
    "        for batch in self.data.train_iter:\n",
    "            # words = [sent len, batch size]\n",
    "            words = batch.word.to(self.device)\n",
    "            # chars = [batch size, sent len, char len]\n",
    "            chars = batch.char.to(self.device)\n",
    "            # tags = [sent len, batch size]\n",
    "            true_tags = batch.tag.to(self.device)\n",
    "            self.optimizer.zero_grad()\n",
    "            pred_tags_list, batch_loss = self.model(words, chars, true_tags)\n",
    "            pred_tags_epoch += pred_tags_list\n",
    "            # to calculate the loss and f1, we flatten true tags\n",
    "            true_tags_epoch += [\n",
    "                [tag for tag in sent_tag if tag != self.data.tag_pad_idx]\n",
    "                for sent_tag in true_tags.permute(1, 0).tolist()\n",
    "            ]\n",
    "            batch_loss.backward()\n",
    "            self.optimizer.step()\n",
    "            epoch_loss += batch_loss.item()\n",
    "        epoch_score = self.f1_positive(pred_tags_epoch, true_tags_epoch)\n",
    "        return epoch_loss / len(self.data.train_iter), epoch_score\n",
    "\n",
    "    def evaluate(self, iterator, full_report=False):\n",
    "        epoch_loss = 0\n",
    "        true_tags_epoch = []\n",
    "        pred_tags_epoch = []\n",
    "        self.model.eval()\n",
    "        with torch.no_grad():\n",
    "            # similar to epoch() but model is in evaluation mode and no backprop\n",
    "            for batch in iterator:\n",
    "                words = batch.word.to(self.device)\n",
    "                chars = batch.char.to(self.device)\n",
    "                true_tags = batch.tag.to(self.device)\n",
    "                pred_tags, batch_loss = self.model(words, chars, true_tags)\n",
    "                pred_tags_epoch += pred_tags\n",
    "                true_tags_epoch += [\n",
    "                    [tag for tag in sent_tag if tag != self.data.tag_pad_idx]\n",
    "                    for sent_tag in true_tags.permute(1, 0).tolist()\n",
    "                ]\n",
    "                epoch_loss += batch_loss.item()\n",
    "        epoch_score = self.f1_positive(pred_tags_epoch, true_tags_epoch)\n",
    "        return epoch_loss / len(iterator), epoch_score\n",
    "\n",
    "    ### BEGIN MODIFIED SECTION: EXPERIMENT ###\n",
    "    def train(self, n_epochs):\n",
    "        history = {\n",
    "            \"num_params\": self.model.count_parameters(),\n",
    "            \"train_loss\": [],\n",
    "            \"train_f1\": [],\n",
    "            \"val_loss\": [],\n",
    "            \"val_f1\": [],\n",
    "        }\n",
    "        elapsed_train_time = 0\n",
    "        for epoch in range(n_epochs):\n",
    "            start_time = time.time()\n",
    "            train_loss, train_f1 = self.epoch()\n",
    "            end_time = time.time()\n",
    "            elapsed_train_time += end_time - start_time\n",
    "            history[\"train_loss\"].append(train_loss)\n",
    "            history[\"train_f1\"].append(train_f1)\n",
    "            val_loss, val_f1 = self.evaluate(self.data.val_iter)\n",
    "            history[\"val_loss\"].append(val_loss)\n",
    "            history[\"val_f1\"].append(val_f1)\n",
    "        test_loss, test_f1 = self.evaluate(self.data.test_iter)\n",
    "        history[\"test_loss\"] = test_loss\n",
    "        history[\"test_f1\"] = test_f1\n",
    "        history[\"elapsed_train_time\"] = elapsed_train_time\n",
    "        return history\n",
    "    ### END MODIFIED SECTION ###\n",
    "\n",
    "    def infer(self, sentence, true_tags=None):\n",
    "        self.model.eval()\n",
    "        # tokenize sentence\n",
    "        nlp = Indonesian()\n",
    "        tokens = [token.text for token in nlp(sentence)]\n",
    "        max_word_len = max([len(token) for token in tokens])\n",
    "        # transform to indices based on corpus vocab\n",
    "        numericalized_tokens = [self.data.word_field.vocab.stoi[token.lower()] for token in tokens]\n",
    "        numericalized_chars = []\n",
    "        char_pad_id = self.data.char_pad_idx\n",
    "        for token in tokens:\n",
    "            numericalized_chars.append(\n",
    "                [self.data.char_field.vocab.stoi[char] for char in token]\n",
    "                + [char_pad_id for _ in range(max_word_len - len(token))]\n",
    "            )\n",
    "        # find unknown words\n",
    "        unk_idx = self.data.word_field.vocab.stoi[self.data.word_field.unk_token]\n",
    "        unks = [t for t, n in zip(tokens, numericalized_tokens) if n == unk_idx]\n",
    "        # begin prediction\n",
    "        token_tensor = torch.as_tensor(numericalized_tokens)\n",
    "        token_tensor = token_tensor.unsqueeze(-1).to(self.device)\n",
    "        char_tensor = torch.as_tensor(numericalized_chars)\n",
    "        char_tensor = char_tensor.unsqueeze(0).to(self.device)\n",
    "        predictions, _ = self.model(token_tensor, char_tensor)\n",
    "        # convert results to tags\n",
    "        predicted_tags = [self.data.tag_field.vocab.itos[t] for t in predictions[0]]\n",
    "        # print inferred tags\n",
    "        max_len_token = max([len(token) for token in tokens] + [len('word')])\n",
    "        max_len_tag = max([len(tag) for tag in predicted_tags] + [len('pred')])\n",
    "        print(\n",
    "            f\"{'word'.ljust(max_len_token)}\\t{'unk'.ljust(max_len_token)}\\t{'pred tag'.ljust(max_len_tag)}\"\n",
    "            + (\"\\ttrue tag\" if true_tags else \"\")\n",
    "        )\n",
    "        for i, token in enumerate(tokens):\n",
    "            is_unk = \"✓\" if token in unks else \"\"\n",
    "            print(\n",
    "                f\"{token.ljust(max_len_token)}\\t{is_unk.ljust(max_len_token)}\\t{predicted_tags[i].ljust(max_len_tag)}\"\n",
    "                + (f\"\\t{true_tags[i]}\" if true_tags else \"\")\n",
    "            )\n",
    "        return tokens, predicted_tags, unks"
   ]
  },
  {
   "cell_type": "markdown",
   "metadata": {
    "colab_type": "text",
    "id": "HZTdnY_BegjN"
   },
   "source": [
    "# Layers\n",
    "\n",
    "Now, we want to compare multiple architectures of neural network. We can implement different classes for each (inheriting from `nn.Module`), but some of the layers are shared between the two architectures. To avoid redundancy and incosistency in the implementation, I split each layer to a separate class."
   ]
  },
  {
   "cell_type": "markdown",
   "metadata": {
    "colab_type": "text",
    "id": "cNpz104zepMv"
   },
   "source": [
    "## Composite Embeddings\n",
    "\n",
    "This include the capability to use pretrained word embedding and char embedding."
   ]
  },
  {
   "cell_type": "code",
   "execution_count": null,
   "metadata": {
    "colab": {},
    "colab_type": "code",
    "id": "k99HrzTqeZpY"
   },
   "outputs": [],
   "source": [
    "class Embeddings(nn.Module):\n",
    "\n",
    "    def __init__(self,\n",
    "                 word_input_dim,\n",
    "                 word_emb_dim,\n",
    "                 word_emb_pretrained,\n",
    "                 word_emb_dropout,\n",
    "                 word_emb_froze,\n",
    "                 use_char_emb,\n",
    "                 char_input_dim,\n",
    "                 char_emb_dim,\n",
    "                 char_emb_dropout,\n",
    "                 char_cnn_filter_num,\n",
    "                 char_cnn_kernel_size,\n",
    "                 char_cnn_dropout,\n",
    "                 word_pad_idx,\n",
    "                 char_pad_idx,\n",
    "                 device\n",
    "                 ):\n",
    "        super().__init__()\n",
    "        self.device = device\n",
    "        self.word_pad_idx = word_pad_idx\n",
    "        self.char_pad_idx = char_pad_idx\n",
    "        # Word Embedding\n",
    "        # initialize embedding with pretrained weights if given\n",
    "        if word_emb_pretrained is not None:\n",
    "            self.word_emb = nn.Embedding.from_pretrained(\n",
    "                embeddings=torch.as_tensor(word_emb_pretrained),\n",
    "                padding_idx=self.word_pad_idx,\n",
    "                freeze=word_emb_froze\n",
    "            )\n",
    "        else:  # otherwise initialize with random weights\n",
    "            self.word_emb = nn.Embedding(\n",
    "                num_embeddings=word_input_dim,\n",
    "                embedding_dim=word_emb_dim,\n",
    "                padding_idx=self.word_pad_idx\n",
    "            )\n",
    "            self.word_emb.weight.data[self.word_pad_idx] = torch.zeros(word_emb_dim)\n",
    "        self.word_emb_dropout = nn.Dropout(word_emb_dropout)\n",
    "        self.output_dim = word_emb_dim\n",
    "        # Char Embedding\n",
    "        # this is optional, if use_char_emb is False then we do not use char embedding\n",
    "        self.use_char_emb = use_char_emb\n",
    "        if self.use_char_emb:\n",
    "            self.char_emb_dim = char_emb_dim\n",
    "            self.char_emb = nn.Embedding(\n",
    "                num_embeddings=char_input_dim,\n",
    "                embedding_dim=char_emb_dim,\n",
    "                padding_idx=char_pad_idx\n",
    "            )\n",
    "            # initialize embedding for char padding as zero\n",
    "            self.char_emb.weight.data[self.char_pad_idx] = torch.zeros(self.char_emb_dim)\n",
    "            self.char_emb_dropout = nn.Dropout(char_emb_dropout)\n",
    "            # Char CNN\n",
    "            self.char_cnn = nn.Conv1d(\n",
    "                in_channels=char_emb_dim,\n",
    "                out_channels=char_emb_dim * char_cnn_filter_num,\n",
    "                kernel_size=char_cnn_kernel_size,\n",
    "                groups=char_emb_dim  # different 1d conv for each embedding dim\n",
    "            )\n",
    "            self.char_cnn_dropout = nn.Dropout(char_cnn_dropout)\n",
    "            self.output_dim += char_emb_dim * char_cnn_filter_num\n",
    "\n",
    "    def forward(self, words, chars):\n",
    "        # words = [sentence length, batch size]\n",
    "        # chars = [batch size, sentence length, word length)\n",
    "        # tags = [sentence length, batch size]\n",
    "        # embedding_out = [sentence length, batch size, embedding dim]\n",
    "        embedding_out = self.word_emb_dropout(self.word_emb(words))\n",
    "        if not self.use_char_emb: return embedding_out\n",
    "        # character cnn layer forward\n",
    "        # reference: https://github.com/achernodub/targer/blob/master/src/layers/layer_char_cnn.py\n",
    "        # char_emb_out = [batch size, sentence length, word length, char emb dim]\n",
    "        char_emb_out = self.char_emb_dropout(self.char_emb(chars))\n",
    "        batch_size, sent_len, word_len, char_emb_dim = char_emb_out.shape\n",
    "        char_cnn_max_out = torch.zeros(batch_size, sent_len, self.char_cnn.out_channels, device=self.device)\n",
    "        for sent_i in range(sent_len):\n",
    "            # sent_char_emb = [batch size, word length, char emb dim]\n",
    "            sent_char_emb = char_emb_out[:, sent_i, :, :]\n",
    "            # sent_char_emb_p = [batch size, char emb dim, word length]\n",
    "            sent_char_emb_p = sent_char_emb.permute(0, 2, 1)\n",
    "            # char_cnn_sent_out = [batch size, out channels * char emb dim, word length - kernel size + 1]\n",
    "            char_cnn_sent_out = self.char_cnn(sent_char_emb_p)\n",
    "            char_cnn_max_out[:, sent_i, :], _ = torch.max(char_cnn_sent_out, dim=2)\n",
    "        char_cnn = self.char_cnn_dropout(char_cnn_max_out)\n",
    "        # concat word and char embedding\n",
    "        # char_cnn_p = [sentence length, batch size, char emb dim * num filter]\n",
    "        char_cnn_p = char_cnn.permute(1, 0, 2)\n",
    "        word_features = torch.cat((embedding_out, char_cnn_p), dim=2)\n",
    "        return word_features"
   ]
  },
  {
   "cell_type": "markdown",
   "metadata": {
    "colab_type": "text",
    "id": "BccUArNIfM2J"
   },
   "source": [
    "## LSTM-Attention\n",
    "\n",
    "Here, the attention layer is optional depending on the `attn_heads` param value."
   ]
  },
  {
   "cell_type": "code",
   "execution_count": null,
   "metadata": {
    "colab": {},
    "colab_type": "code",
    "id": "6k1X8CjofPR-"
   },
   "outputs": [],
   "source": [
    "class LSTMAttn(nn.Module):\n",
    "\n",
    "    def __init__(self,\n",
    "                 input_dim,\n",
    "                 lstm_hidden_dim,\n",
    "                 lstm_layers,\n",
    "                 lstm_dropout,\n",
    "                 word_pad_idx,\n",
    "                 attn_heads=None,\n",
    "                 attn_dropout=None\n",
    "                 ):\n",
    "        super().__init__()\n",
    "        self.word_pad_idx = word_pad_idx\n",
    "        # bi-lstm layer\n",
    "        self.lstm = nn.LSTM(\n",
    "            input_size=input_dim,\n",
    "            hidden_size=lstm_hidden_dim,\n",
    "            num_layers=lstm_layers,\n",
    "            bidirectional=True,\n",
    "            dropout=lstm_dropout if lstm_layers > 1 else 0\n",
    "        )\n",
    "        self.attn_heads = attn_heads\n",
    "        # attention layer is optional\n",
    "        if self.attn_heads:\n",
    "            self.attn = nn.MultiheadAttention(\n",
    "                embed_dim=lstm_hidden_dim * 2,\n",
    "                num_heads=attn_heads,\n",
    "                dropout=attn_dropout\n",
    "            )\n",
    "\n",
    "    def forward(self, words, word_features):\n",
    "        lstm_out, _ = self.lstm(word_features)\n",
    "        if not self.attn_heads: return lstm_out\n",
    "        # create masking for paddings\n",
    "        key_padding_mask = torch.as_tensor(words == self.word_pad_idx).permute(1, 0)\n",
    "        attn_out, _ = self.attn(lstm_out, lstm_out, lstm_out, key_padding_mask=key_padding_mask)\n",
    "        return attn_out"
   ]
  },
  {
   "cell_type": "markdown",
   "metadata": {
    "colab_type": "text",
    "id": "RNvXUs6mforW"
   },
   "source": [
    "## Transformer\n",
    "\n",
    "Same architecture as the previous notebook."
   ]
  },
  {
   "cell_type": "code",
   "execution_count": null,
   "metadata": {
    "colab": {},
    "colab_type": "code",
    "id": "hWGoCv0QfTeR"
   },
   "outputs": [],
   "source": [
    "# from: https://pytorch.org/tutorials/beginner/transformer_tutorial.html\n",
    "class PositionalEncoding(nn.Module):\n",
    "\n",
    "    def __init__(self, d_model, dropout=0.1, max_len=500):\n",
    "        super(PositionalEncoding, self).__init__()\n",
    "        self.dropout = nn.Dropout(p=dropout)\n",
    "        pe = torch.zeros(max_len, d_model)\n",
    "        position = torch.arange(0, max_len, dtype=torch.float).unsqueeze(1)\n",
    "        div_term = torch.exp(torch.arange(0, d_model, 2).float() * (-math.log(10000.0) / d_model))\n",
    "        pe[:, 0::2] = torch.sin(position * div_term)\n",
    "        pe[:, 1::2] = torch.cos(position * div_term)\n",
    "        pe = pe.unsqueeze(0).transpose(0, 1)\n",
    "        self.register_buffer('pe', pe)\n",
    "\n",
    "    def forward(self, x):\n",
    "        # add the positional encoding to the input embeddings\n",
    "        x = x + self.pe[:x.size(0), :]\n",
    "        return self.dropout(x)\n",
    "\n",
    "\n",
    "class Transformer(nn.Module):\n",
    "\n",
    "    def __init__(self,\n",
    "                 input_dim,\n",
    "                 attn_heads,\n",
    "                 attn_dropout,\n",
    "                 trf_layers,\n",
    "                 fc_hidden,\n",
    "                 word_pad_idx\n",
    "                 ):\n",
    "        super().__init__()\n",
    "        self.word_pad_idx = word_pad_idx\n",
    "        self.position_encoder = PositionalEncoding(\n",
    "            d_model=input_dim\n",
    "        )\n",
    "        layers = nn.TransformerEncoderLayer(\n",
    "            d_model=input_dim,\n",
    "            nhead=attn_heads,\n",
    "            activation=\"relu\",\n",
    "            dropout=attn_dropout\n",
    "        )\n",
    "        self.trf = nn.TransformerEncoder(\n",
    "            encoder_layer=layers,\n",
    "            num_layers=trf_layers\n",
    "        )\n",
    "        # 2-layers fully-connected with GELU activation in-between\n",
    "        self.fc = nn.Linear(\n",
    "            in_features=input_dim,\n",
    "            out_features=fc_hidden\n",
    "        )\n",
    "        self.fc_gelu = nn.GELU()\n",
    "        self.fc_norm = nn.LayerNorm(fc_hidden)\n",
    "        self.output_dim = fc_hidden\n",
    "\n",
    "    def forward(self, words, word_features):\n",
    "        # Transformer\n",
    "        key_padding_mask = torch.as_tensor(words == self.word_pad_idx).permute(1, 0)\n",
    "        # pos_out = [sentence length, batch size, embedding dim + char emb dim * num filter]\n",
    "        pos_out = self.position_encoder(word_features)\n",
    "        # enc_out = [sentence length, batch size, embedding dim + char emb dim * num filter]\n",
    "        trf_out = self.trf(pos_out, src_key_padding_mask=key_padding_mask)\n",
    "        # fc_out = [sentence length, batch size, fc hidden]\n",
    "        fc_out = self.fc_norm(self.fc_gelu(self.fc(trf_out)))\n",
    "        return fc_out"
   ]
  },
  {
   "cell_type": "markdown",
   "metadata": {
    "colab_type": "text",
    "id": "1R8zG7-JgYuq"
   },
   "source": [
    "## CRF\n",
    "\n",
    "By splitting into a class of its own, the `init_crf_transitions` can be implemented under the `CRF` class, which is more intuitive."
   ]
  },
  {
   "cell_type": "code",
   "execution_count": null,
   "metadata": {
    "colab": {},
    "colab_type": "code",
    "id": "pz-5oQVLgX0Z"
   },
   "outputs": [],
   "source": [
    "class CRF(nn.Module):\n",
    "\n",
    "    def __init__(self,\n",
    "                 input_dim,\n",
    "                 fc_dropout,\n",
    "                 word_pad_idx,\n",
    "                 tag_names,\n",
    "                 ):\n",
    "        super().__init__()\n",
    "        self.word_pad_idx = word_pad_idx\n",
    "        # Fully-connected\n",
    "        self.fc_dropout = nn.Dropout(fc_dropout)\n",
    "        self.fc = nn.Linear(input_dim, len(tag_names))\n",
    "        # CRF\n",
    "        self.crf = torchcrf.CRF(num_tags=len(tag_names))\n",
    "        self.init_crf_transitions(tag_names)\n",
    "\n",
    "    def forward(self, words, word_features, tags):\n",
    "        # fc_out = [sentence length, batch size, output dim]\n",
    "        fc_out = self.fc(self.fc_dropout(word_features))\n",
    "        crf_mask = words != self.word_pad_idx\n",
    "        crf_out = self.crf.decode(fc_out, mask=crf_mask)\n",
    "        crf_loss = -self.crf(fc_out, tags=tags, mask=crf_mask) if tags is not None else None\n",
    "        return crf_out, crf_loss\n",
    "\n",
    "    def init_crf_transitions(self, tag_names, imp_value=-100):\n",
    "        num_tags = len(tag_names)\n",
    "        for i in range(num_tags):\n",
    "            tag_name = tag_names[i]\n",
    "            # I and L and <pad> impossible as a start\n",
    "            if tag_name[0] in (\"I\", \"L\") or tag_name == \"<pad>\":\n",
    "                torch.nn.init.constant_(self.crf.start_transitions[i], imp_value)\n",
    "            # B and I impossible as an end\n",
    "            if tag_name[0] in (\"B\", \"I\"):\n",
    "                torch.nn.init.constant_(self.crf.end_transitions[i], imp_value)\n",
    "        # init impossible transitions between positions\n",
    "        tag_is = {}\n",
    "        for tag_position in (\"B\", \"I\", \"O\", \"U\", \"L\"):\n",
    "            tag_is[tag_position] = [i for i, tag in enumerate(tag_names) if tag[0] == tag_position]\n",
    "        tag_is[\"P\"] = [i for i, tag in enumerate(tag_names) if tag == \"tag\"]\n",
    "        impossible_transitions_position = {\n",
    "            \"B\": \"BOUP\",\n",
    "            \"I\": \"BOUP\",\n",
    "            \"O\": \"IL\",\n",
    "            \"U\": \"IL\"\n",
    "        }\n",
    "        for from_tag, to_tag_list in impossible_transitions_position.items():\n",
    "            to_tags = list(to_tag_list)\n",
    "            for from_tag_i in tag_is[from_tag]:\n",
    "                for to_tag in to_tags:\n",
    "                    for to_tag_i in tag_is[to_tag]:\n",
    "                        torch.nn.init.constant_(\n",
    "                            self.crf.transitions[from_tag_i, to_tag_i], imp_value\n",
    "                        )\n",
    "        # init impossible B and I transitions to different entity types\n",
    "        impossible_transitions_tags = {\n",
    "            \"B\": \"IL\",\n",
    "            \"I\": \"IL\"\n",
    "        }\n",
    "        for from_tag, to_tag_list in impossible_transitions_tags.items():\n",
    "            to_tags = list(to_tag_list)\n",
    "            for from_tag_i in tag_is[from_tag]:\n",
    "                for to_tag in to_tags:\n",
    "                    for to_tag_i in tag_is[to_tag]:\n",
    "                        if tag_names[from_tag_i].split(\"-\")[1] != tag_names[to_tag_i].split(\"-\")[1]:\n",
    "                            torch.nn.init.constant_(\n",
    "                                self.crf.transitions[from_tag_i, to_tag_i], imp_value\n",
    "                            )"
   ]
  },
  {
   "cell_type": "markdown",
   "metadata": {
    "colab_type": "text",
    "id": "Lgt-S0MKgp2U"
   },
   "source": [
    "# Models\n",
    "\n",
    "We need only one model class now which include all the possible configuration based on the supplied parameters. Notice that by default, this is a BiLSTM model with no pretrained word embeddings. The `NERModel` consists of three parts: `Embeddings`, `model_arch` (either BiLSTM or Transformer), and `CRF` for the output layer. "
   ]
  },
  {
   "cell_type": "code",
   "execution_count": null,
   "metadata": {
    "colab": {},
    "colab_type": "code",
    "id": "MaDmK-sRgohZ"
   },
   "outputs": [],
   "source": [
    "class NERModel(nn.Module):\n",
    "\n",
    "    def __init__(self,\n",
    "                 word_input_dim,\n",
    "                 word_pad_idx,\n",
    "                 char_pad_idx,\n",
    "                 tag_names,\n",
    "                 device,\n",
    "                 model_arch=\"bilstm\",\n",
    "                 word_emb_dim=300,\n",
    "                 word_emb_pretrained=None,\n",
    "                 word_emb_dropout=0.5,\n",
    "                 word_emb_froze=False,\n",
    "                 use_char_emb=False,\n",
    "                 char_input_dim=None,\n",
    "                 char_emb_dim=None,\n",
    "                 char_emb_dropout=None,\n",
    "                 char_cnn_filter_num=None,\n",
    "                 char_cnn_kernel_size=None,\n",
    "                 char_cnn_dropout=None,\n",
    "                 lstm_hidden_dim=64,\n",
    "                 lstm_layers=2,\n",
    "                 lstm_dropout=0.1,\n",
    "                 attn_heads=None,\n",
    "                 attn_dropout=None,\n",
    "                 trf_layers=None,\n",
    "                 fc_hidden=None,\n",
    "                 fc_dropout=0.25\n",
    "                 ):\n",
    "        super().__init__()\n",
    "        # Embeddings\n",
    "        self.embeddings = Embeddings(\n",
    "            word_input_dim=word_input_dim,\n",
    "            word_emb_dim=word_emb_dim,\n",
    "            word_emb_pretrained=word_emb_pretrained,\n",
    "            word_emb_dropout=word_emb_dropout,\n",
    "            word_emb_froze=word_emb_froze,\n",
    "            use_char_emb=use_char_emb,\n",
    "            char_input_dim=char_input_dim,\n",
    "            char_emb_dim=char_emb_dim,\n",
    "            char_emb_dropout=char_emb_dropout,\n",
    "            char_cnn_filter_num=char_cnn_filter_num,\n",
    "            char_cnn_kernel_size=char_cnn_kernel_size,\n",
    "            char_cnn_dropout=char_cnn_dropout,\n",
    "            word_pad_idx=word_pad_idx,\n",
    "            char_pad_idx=char_pad_idx,\n",
    "            device=device\n",
    "        )\n",
    "        if model_arch.lower() == \"bilstm\":\n",
    "            # LSTM-Attention\n",
    "            self.encoder = LSTMAttn(\n",
    "                 input_dim=self.embeddings.output_dim,\n",
    "                 lstm_hidden_dim=lstm_hidden_dim,\n",
    "                 lstm_layers=lstm_layers,\n",
    "                 lstm_dropout=lstm_dropout,\n",
    "                 word_pad_idx=word_pad_idx,\n",
    "                 attn_heads=attn_heads,\n",
    "                 attn_dropout=attn_dropout\n",
    "            )\n",
    "            encoder_output_dim = lstm_hidden_dim * 2\n",
    "        elif model_arch.lower() == \"transformer\":\n",
    "            # Transformer\n",
    "            self.encoder = Transformer(\n",
    "                input_dim=self.embeddings.output_dim,\n",
    "                attn_heads=attn_heads,\n",
    "                attn_dropout=attn_dropout,\n",
    "                trf_layers=trf_layers,\n",
    "                fc_hidden=fc_hidden,\n",
    "                word_pad_idx=word_pad_idx\n",
    "            )\n",
    "            encoder_output_dim = self.encoder.output_dim\n",
    "        else:\n",
    "            raise ValueError(\"param `model_arch` must be either 'bilstm' or 'transformer'\")\n",
    "        # CRF\n",
    "        self.crf = CRF(\n",
    "            input_dim=encoder_output_dim,\n",
    "            fc_dropout=fc_dropout,\n",
    "            word_pad_idx=word_pad_idx,\n",
    "            tag_names=tag_names\n",
    "        )\n",
    "\n",
    "    def forward(self, words, chars, tags=None):\n",
    "        word_features = self.embeddings(words, chars)\n",
    "        # lstm_out = [sentence length, batch size, hidden dim * 2]\n",
    "        encoder_out = self.encoder(words, word_features)\n",
    "        # fc_out = [sentence length, batch size, output dim]\n",
    "        crf_out, crf_loss = self.crf(words, encoder_out, tags)\n",
    "        return crf_out, crf_loss\n",
    "\n",
    "    def count_parameters(self):\n",
    "        return sum(p.numel() for p in self.parameters() if p.requires_grad)"
   ]
  },
  {
   "cell_type": "markdown",
   "metadata": {
    "colab_type": "text",
    "id": "2rccU13sgzr7"
   },
   "source": [
    "# Experiment"
   ]
  },
  {
   "cell_type": "markdown",
   "metadata": {
    "colab_type": "text",
    "id": "n7XyWbvAMsWO"
   },
   "source": [
    "## Configurations"
   ]
  },
  {
   "cell_type": "code",
   "execution_count": null,
   "metadata": {
    "colab": {},
    "colab_type": "code",
    "id": "wWxU8X_BglSG"
   },
   "outputs": [],
   "source": [
    "# configurations building block\n",
    "base = {\n",
    "    \"word_input_dim\": len(corpus.word_field.vocab),\n",
    "    \"char_pad_idx\": corpus.char_pad_idx,\n",
    "    \"word_pad_idx\": corpus.word_pad_idx,\n",
    "    \"tag_names\": corpus.tag_field.vocab.itos,\n",
    "    \"device\": use_device\n",
    "}\n",
    "w2v = {\n",
    "    \"word_emb_pretrained\": corpus.word_field.vocab.vectors if corpus.wv_model else None\n",
    "}\n",
    "cnn = {\n",
    "    \"use_char_emb\": True,\n",
    "    \"char_input_dim\": len(corpus.char_field.vocab),\n",
    "    \"char_emb_dim\": 37,\n",
    "    \"char_emb_dropout\": 0.25,\n",
    "    \"char_cnn_filter_num\": 4,\n",
    "    \"char_cnn_kernel_size\": 3,\n",
    "    \"char_cnn_dropout\": 0.25\n",
    "}\n",
    "attn = {\n",
    "    \"attn_heads\": 16,\n",
    "    \"attn_dropout\": 0.25\n",
    "}\n",
    "transformer = {\n",
    "    \"model_arch\": \"transformer\",\n",
    "    \"trf_layers\": 1,\n",
    "    \"fc_hidden\": 256,\n",
    "}\n",
    "# this is the main config, which is based on the previous building blocks\n",
    "configs = {\n",
    "    \"bilstm\": base,\n",
    "    \"bilstm+w2v\": {**base, **w2v},\n",
    "    \"bilstm+w2v+cnn\": {**base, **w2v, **cnn},\n",
    "    \"bilstm+w2v+cnn+attn\": {**base, **w2v, **cnn, **attn},\n",
    "    \"transformer+w2v+cnn\": {**base, **transformer, **w2v, **cnn, **attn}\n",
    "}"
   ]
  },
  {
   "cell_type": "markdown",
   "metadata": {
    "colab_type": "text",
    "id": "BqfC9wkgMvtA"
   },
   "source": [
    "## Training"
   ]
  },
  {
   "cell_type": "code",
   "execution_count": null,
   "metadata": {
    "colab": {
     "base_uri": "https://localhost:8080/",
     "height": 293
    },
    "colab_type": "code",
    "id": "esPS5QELMvRi",
    "outputId": "fe4e34d3-9cf9-4991-87f4-283971f4d1ed"
   },
   "outputs": [
    {
     "name": "stdout",
     "output_type": "stream",
     "text": [
      "Start Training: bilstm\n",
      "Done Training: bilstm\n",
      "\n",
      "Start Training: bilstm+w2v\n",
      "Done Training: bilstm+w2v\n",
      "\n",
      "Start Training: bilstm+w2v+cnn\n",
      "Done Training: bilstm+w2v+cnn\n",
      "\n",
      "Start Training: bilstm+w2v+cnn+attn\n",
      "Done Training: bilstm+w2v+cnn+attn\n",
      "\n",
      "Start Training: transformer+w2v+cnn\n",
      "Done Training: transformer+w2v+cnn\n",
      "\n"
     ]
    }
   ],
   "source": [
    "num_epochs = 15\n",
    "histories = {}\n",
    "for model_name in configs:\n",
    "    print(f\"Start Training: {model_name}\")\n",
    "    trainer = Trainer(\n",
    "        model=NERModel(**configs[model_name]),\n",
    "        data=corpus,\n",
    "        optimizer_cls=Adam,\n",
    "        device=use_device\n",
    "    )\n",
    "    histories[model_name] = trainer.train(num_epochs)\n",
    "    print(f\"Done Training: {model_name}\")\n",
    "    print()"
   ]
  },
  {
   "cell_type": "markdown",
   "metadata": {
    "colab_type": "text",
    "id": "rKuZZ5PcM0eb"
   },
   "source": [
    "## Results"
   ]
  },
  {
   "cell_type": "code",
   "execution_count": null,
   "metadata": {
    "colab": {
     "base_uri": "https://localhost:8080/",
     "height": 127
    },
    "colab_type": "code",
    "id": "OqNbIH-SRqho",
    "outputId": "b64aecc8-12a0-48ba-ddf2-499ab4f4f9b5"
   },
   "outputs": [
    {
     "name": "stdout",
     "output_type": "stream",
     "text": [
      "MODEL NAME         \tNUM PARAMS\tTRAINING TIME\n",
      "bilstm             \t9,305,086\t2m 46s\n",
      "bilstm+w2v         \t9,305,086\t2m 45s\n",
      "bilstm+w2v+cnn     \t9,384,599\t3m 16s\n",
      "bilstm+w2v+cnn+attn\t9,450,647\t3m 23s\n",
      "transformer+w2v+cnn\t11,784,279\t3m 25s\n"
     ]
    }
   ],
   "source": [
    "max_len_model_name = max([len(m) for m in histories])\n",
    "print(f\"{'MODEL NAME'.ljust(max_len_model_name)}\\t{'NUM PARAMS'.ljust(10)}\\tTRAINING TIME\")\n",
    "for model_name, history in histories.items():\n",
    "    print(f\"{model_name.ljust(max_len_model_name)}\\t{history['num_params']:,}\\t{int(history['elapsed_train_time']//60)}m {int(history['elapsed_train_time'] % 60)}s\")"
   ]
  },
  {
   "cell_type": "code",
   "execution_count": null,
   "metadata": {
    "colab": {
     "base_uri": "https://localhost:8080/",
     "height": 730
    },
    "colab_type": "code",
    "id": "mY7wCIE4v4hF",
    "outputId": "09c4f16b-1db0-47c1-898d-59d1c6235186"
   },
   "outputs": [
    {
     "data": {
      "image/png": "[encoded data removed]",
      "text/plain": [
       "<Figure size 1080x864 with 2 Axes>"
      ]
     },
     "metadata": {
      "needs_background": "light",
      "tags": []
     },
     "output_type": "display_data"
    }
   ],
   "source": [
    "epochs = [i+1 for i in range(15)]\n",
    "model_name = \"bilstm\"\n",
    "val_loss1 = histories[model_name][\"val_loss\"]\n",
    "val_loss2 = histories[\"bilstm+w2v\"][\"val_loss\"]\n",
    "c\n",
    "fig, axs = plt.subplots(2, 1, figsize=(15, 12))\n",
    "for model_name in histories:\n",
    "    axs[0].plot(epochs, histories[model_name][\"val_loss\"], label=model_name)\n",
    "    axs[1].plot(epochs, histories[model_name][\"val_f1\"], label=model_name)\n",
    "_ = axs[0].set_title(\"Val Loss\")\n",
    "_ = axs[1].set_title(\"Val F1\")\n",
    "_ = axs[1].set_xlabel(\"epochs\")\n",
    "_ = axs[0].set_ylabel(\"loss\")\n",
    "_ = axs[1].set_ylabel(\"F1\")\n",
    "_ = axs[0].legend(loc=\"upper right\")\n",
    "_ = axs[1].legend(loc=\"lower right\")"
   ]
  },
  {
   "cell_type": "code",
   "execution_count": null,
   "metadata": {
    "colab": {
     "base_uri": "https://localhost:8080/",
     "height": 281
    },
    "colab_type": "code",
    "id": "rdOnAYL8amyQ",
    "outputId": "c5df4612-6adf-48bd-a654-9e76f73e65e8"
   },
   "outputs": [
    {
     "data": {
      "image/png": "[encoded data removed]",
      "text/plain": [
       "<Figure size 432x288 with 1 Axes>"
      ]
     },
     "metadata": {
      "needs_background": "light",
      "tags": []
     },
     "output_type": "display_data"
    }
   ],
   "source": [
    "model_test_f1 = [(m, histories[m][\"test_f1\"]) for m in histories]\n",
    "model_test_f1_sorted = sorted(model_test_f1, key=lambda m: m[1])\n",
    "model_names = [m[0] for m in model_test_f1_sorted]\n",
    "y_pos = list(range(len(model_names)))\n",
    "f1_scores = [m[1] for m in model_test_f1_sorted]\n",
    "fig, ax = plt.subplots()\n",
    "_ = ax.barh(y_pos, f1_scores, align='center')\n",
    "_ = ax.set_yticks(y_pos)\n",
    "_ = ax.set_yticklabels(model_names)\n",
    "_ = ax.set_title(\"Test F1\")"
   ]
  },
  {
   "cell_type": "markdown",
   "metadata": {
    "colab_type": "text",
    "id": "ArgTU_kJiOvs"
   },
   "source": [
    "# Which model is the best?\n",
    "\n",
    "Now that we are using F1, we can see that the score is not as good as accuracy has shown. Determining which metric to use is indeed crucial, especially when we want to find the best model. Generally, accuracy is not the most suitable metric for imbalanced dataset such as NER.\n",
    "\n",
    "In terms of performance, attention does not live up to the hype. So far, BiLSTM with pretrained Word2Vec and CNN character embedding provides the best result according to the Test F1 score. However, those models are trained with the same number of epochs using the same parameter configuration. Optimization, even a simple one, can change the order here, as you can observe how tight the F1 leaderboard is (it can change if I rerun the notebook!). In the next and final part, I will perform the most basic optimization and compare the best form of each model instead of the last training state. Which model will emerge as the winner?\n",
    "\n",
    "Next, the final part: [Optimization](https://colab.research.google.com/drive/1IimPtjt56ktPiRS7X_QUDAN2f_4xD9Ho?usp=sharing)."
   ]
  }
 ],
 "metadata": {
  "accelerator": "GPU",
  "colab": {
   "collapsed_sections": [],
   "name": "7 - Comparing BiLSTM and Transformer-based Model for Indonesian NER",
   "provenance": []
  },
  "kernelspec": {
   "display_name": "Python 3",
   "language": "python",
   "name": "python3"
  },
  "language_info": {
   "codemirror_mode": {
    "name": "ipython",
    "version": 3
   },
   "file_extension": ".py",
   "mimetype": "text/x-python",
   "name": "python",
   "nbconvert_exporter": "python",
   "pygments_lexer": "ipython3",
   "version": "3.7.6"
  }
 },
 "nbformat": 4,
 "nbformat_minor": 4
}
